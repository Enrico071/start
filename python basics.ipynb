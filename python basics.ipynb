{
 "cells": [
  {
   "cell_type": "markdown",
   "id": "79476513",
   "metadata": {},
   "source": [
    "# 0. Variables"
   ]
  },
  {
   "cell_type": "code",
   "execution_count": 8,
   "id": "7e935a7f",
   "metadata": {},
   "outputs": [],
   "source": [
    "space_name = 'Astronaut Rico'"
   ]
  },
  {
   "cell_type": "code",
   "execution_count": 10,
   "id": "0feb772a",
   "metadata": {},
   "outputs": [
    {
     "name": "stdout",
     "output_type": "stream",
     "text": [
      "Astronaut Rico\n"
     ]
    }
   ],
   "source": [
    "print(space_name)"
   ]
  },
  {
   "cell_type": "code",
   "execution_count": 11,
   "id": "ec6d0fd4",
   "metadata": {},
   "outputs": [
    {
     "data": {
      "text/plain": [
       "str"
      ]
     },
     "execution_count": 11,
     "metadata": {},
     "output_type": "execute_result"
    }
   ],
   "source": [
    "type(space_name)"
   ]
  },
  {
   "cell_type": "markdown",
   "id": "b5190301",
   "metadata": {},
   "source": [
    "# 1. Data types"
   ]
  },
  {
   "cell_type": "code",
   "execution_count": 13,
   "id": "720ce6af",
   "metadata": {},
   "outputs": [
    {
     "name": "stdout",
     "output_type": "stream",
     "text": [
      "mars\n"
     ]
    }
   ],
   "source": [
    "test_variable = 'mars'\n",
    "print(test_variable)"
   ]
  },
  {
   "cell_type": "code",
   "execution_count": 14,
   "id": "7d55809e",
   "metadata": {},
   "outputs": [
    {
     "name": "stdout",
     "output_type": "stream",
     "text": [
      "123456\n"
     ]
    }
   ],
   "source": [
    "x = 123456\n",
    "print(x)"
   ]
  },
  {
   "cell_type": "code",
   "execution_count": 15,
   "id": "7525d11d",
   "metadata": {},
   "outputs": [
    {
     "data": {
      "text/plain": [
       "int"
      ]
     },
     "execution_count": 15,
     "metadata": {},
     "output_type": "execute_result"
    }
   ],
   "source": [
    "type(x)"
   ]
  },
  {
   "cell_type": "code",
   "execution_count": 24,
   "id": "5b8ba71f",
   "metadata": {},
   "outputs": [],
   "source": [
    "bool_variable = bool(0)"
   ]
  },
  {
   "cell_type": "code",
   "execution_count": 25,
   "id": "bb532e6b",
   "metadata": {},
   "outputs": [
    {
     "data": {
      "text/plain": [
       "False"
      ]
     },
     "execution_count": 25,
     "metadata": {},
     "output_type": "execute_result"
    }
   ],
   "source": [
    "bool_variable"
   ]
  },
  {
   "cell_type": "code",
   "execution_count": 36,
   "id": "faadd561",
   "metadata": {},
   "outputs": [],
   "source": [
    "#List are immutable = it can be change\n",
    "list_variables = [55, 99, 2, 10]"
   ]
  },
  {
   "cell_type": "code",
   "execution_count": 37,
   "id": "3419365d",
   "metadata": {},
   "outputs": [
    {
     "data": {
      "text/plain": [
       "[55, 99, 2, 10]"
      ]
     },
     "execution_count": 37,
     "metadata": {},
     "output_type": "execute_result"
    }
   ],
   "source": [
    "list_variables"
   ]
  },
  {
   "cell_type": "code",
   "execution_count": 29,
   "id": "33da1ea2",
   "metadata": {},
   "outputs": [],
   "source": [
    "list_variables[2] = 77"
   ]
  },
  {
   "cell_type": "code",
   "execution_count": 30,
   "id": "cbaa499a",
   "metadata": {},
   "outputs": [
    {
     "data": {
      "text/plain": [
       "[1, 2, 77, 5]"
      ]
     },
     "execution_count": 30,
     "metadata": {},
     "output_type": "execute_result"
    }
   ],
   "source": [
    "list_variables"
   ]
  },
  {
   "cell_type": "code",
   "execution_count": 31,
   "id": "219c5219",
   "metadata": {},
   "outputs": [],
   "source": [
    "# they are not immutable = you cannot change the values\n",
    "tuple_variable = (1,2,3,4)"
   ]
  },
  {
   "cell_type": "code",
   "execution_count": 33,
   "id": "a855b401",
   "metadata": {},
   "outputs": [
    {
     "ename": "TypeError",
     "evalue": "'tuple' object does not support item assignment",
     "output_type": "error",
     "traceback": [
      "\u001b[1;31m---------------------------------------------------------------------------\u001b[0m",
      "\u001b[1;31mTypeError\u001b[0m                                 Traceback (most recent call last)",
      "\u001b[1;32m~\\AppData\\Local\\Temp\\ipykernel_23424\\2769655210.py\u001b[0m in \u001b[0;36m<module>\u001b[1;34m\u001b[0m\n\u001b[1;32m----> 1\u001b[1;33m \u001b[0mtuple_variable\u001b[0m\u001b[1;33m[\u001b[0m\u001b[1;36m1\u001b[0m\u001b[1;33m]\u001b[0m\u001b[1;33m=\u001b[0m\u001b[1;36m77\u001b[0m\u001b[1;33m\u001b[0m\u001b[1;33m\u001b[0m\u001b[0m\n\u001b[0m",
      "\u001b[1;31mTypeError\u001b[0m: 'tuple' object does not support item assignment"
     ]
    }
   ],
   "source": [
    "tuple_variable[1]=77"
   ]
  },
  {
   "cell_type": "code",
   "execution_count": 34,
   "id": "0888453e",
   "metadata": {},
   "outputs": [],
   "source": [
    "# they are not immutable and they don't contain duplicate values\n",
    "Sets = {3, 100, 5, 6, 88}"
   ]
  },
  {
   "cell_type": "code",
   "execution_count": 35,
   "id": "bffa68a7",
   "metadata": {},
   "outputs": [
    {
     "data": {
      "text/plain": [
       "{3, 5, 6, 88, 100}"
      ]
     },
     "execution_count": 35,
     "metadata": {},
     "output_type": "execute_result"
    }
   ],
   "source": [
    "Sets"
   ]
  },
  {
   "cell_type": "code",
   "execution_count": 38,
   "id": "4a777ac6",
   "metadata": {},
   "outputs": [
    {
     "data": {
      "text/plain": [
       "{2, 10, 55, 99}"
      ]
     },
     "execution_count": 38,
     "metadata": {},
     "output_type": "execute_result"
    }
   ],
   "source": [
    "set(list_variables)"
   ]
  },
  {
   "cell_type": "code",
   "execution_count": null,
   "id": "57d8e8ef",
   "metadata": {},
   "outputs": [],
   "source": []
  },
  {
   "cell_type": "code",
   "execution_count": null,
   "id": "73659577",
   "metadata": {},
   "outputs": [],
   "source": []
  },
  {
   "cell_type": "markdown",
   "id": "848d4c84",
   "metadata": {},
   "source": [
    "# LOOPS"
   ]
  },
  {
   "cell_type": "code",
   "execution_count": 1,
   "id": "2ba4f9c8",
   "metadata": {},
   "outputs": [
    {
     "name": "stdout",
     "output_type": "stream",
     "text": [
      "0\n",
      "1\n",
      "2\n",
      "3\n",
      "4\n",
      "5\n",
      "6\n",
      "7\n",
      "8\n",
      "9\n"
     ]
    }
   ],
   "source": [
    "#creating for loops\n",
    "for i in range(10):\n",
    "    print(i)"
   ]
  },
  {
   "cell_type": "code",
   "execution_count": 29,
   "id": "aca2a6c7",
   "metadata": {},
   "outputs": [
    {
     "name": "stdout",
     "output_type": "stream",
     "text": [
      "ronnie\n",
      "jay\n",
      "kai\n",
      "phil\n"
     ]
    }
   ],
   "source": [
    "#create\n",
    "bodybuilders = ['ronnie', 'jay', 'kai', 'phil']\n",
    "for i in bodybuilder:\n",
    "    print(i)"
   ]
  },
  {
   "cell_type": "code",
   "execution_count": 17,
   "id": "ae507aa3",
   "metadata": {},
   "outputs": [
    {
     "name": "stdout",
     "output_type": "stream",
     "text": [
      "ronnie\n",
      "yeah buddy\n",
      "\n",
      "jay\n",
      "hi guys\n",
      "\n",
      "kai\n",
      "thoughts become things\n",
      "\n",
      "phil\n",
      "hi guys\n",
      "\n"
     ]
    }
   ],
   "source": [
    "#read\n",
    "for name in bodybuilder:\n",
    "    print(name)\n",
    "    \n",
    "    if name == 'kai':\n",
    "        print('thoughts become things\\n')\n",
    "        continue\n",
    "    \n",
    "    elif name == 'ronnie':\n",
    "        print('yeah buddy\\n') \n",
    "      \n",
    "    else:\n",
    "        print('hi guys\\n')\n",
    "        \n",
    "    "
   ]
  },
  {
   "cell_type": "code",
   "execution_count": null,
   "id": "8cbb4c2a",
   "metadata": {
    "collapsed": true
   },
   "outputs": [],
   "source": []
  },
  {
   "cell_type": "code",
   "execution_count": null,
   "id": "adb82891",
   "metadata": {},
   "outputs": [],
   "source": []
  },
  {
   "cell_type": "code",
   "execution_count": 1,
   "id": "6dd968d6",
   "metadata": {},
   "outputs": [
    {
     "name": "stdout",
     "output_type": "stream",
     "text": [
      "animal fed\n",
      "animal fed\n",
      "animal fed\n",
      "animal fed\n",
      "animal fed\n",
      "all animals have been fed\n"
     ]
    }
   ],
   "source": [
    "#CREATING A WHILE LOOP\n",
    "\n",
    "animals_fed = 0\n",
    "total_animals = 5\n",
    "\n",
    "while True:\n",
    "    #string formatting\n",
    "    print('animal fed')\n",
    "    animals_fed +=1\n",
    "    \n",
    "    if animals_fed == total_animals:\n",
    "        print('all animals have been fed')\n",
    "        break"
   ]
  },
  {
   "cell_type": "code",
   "execution_count": null,
   "id": "4cdca1c9",
   "metadata": {},
   "outputs": [],
   "source": []
  },
  {
   "cell_type": "code",
   "execution_count": 18,
   "id": "7e0c84e7",
   "metadata": {},
   "outputs": [],
   "source": [
    "bodybuilder = {\n",
    "    'name':'rico',\n",
    "    'supplement': 'USN',\n",
    "    'vest size': '2XL'\n",
    "}"
   ]
  },
  {
   "cell_type": "code",
   "execution_count": 19,
   "id": "d12448aa",
   "metadata": {},
   "outputs": [
    {
     "data": {
      "text/plain": [
       "{'name': 'rico', 'supplement': 'USN', 'vest size': '2XL'}"
      ]
     },
     "execution_count": 19,
     "metadata": {},
     "output_type": "execute_result"
    }
   ],
   "source": [
    "bodybuilder"
   ]
  },
  {
   "cell_type": "code",
   "execution_count": 20,
   "id": "12667dda",
   "metadata": {},
   "outputs": [
    {
     "data": {
      "text/plain": [
       "dict_keys(['name', 'supplement', 'vest size'])"
      ]
     },
     "execution_count": 20,
     "metadata": {},
     "output_type": "execute_result"
    }
   ],
   "source": [
    "bodybuilder.keys()"
   ]
  },
  {
   "cell_type": "code",
   "execution_count": 21,
   "id": "0bce4fa1",
   "metadata": {},
   "outputs": [
    {
     "data": {
      "text/plain": [
       "dict_values(['rico', 'USN', '2XL'])"
      ]
     },
     "execution_count": 21,
     "metadata": {},
     "output_type": "execute_result"
    }
   ],
   "source": [
    "#accessing dictionary values\n",
    "bodybuilder.values()"
   ]
  },
  {
   "cell_type": "code",
   "execution_count": 24,
   "id": "a8343265",
   "metadata": {},
   "outputs": [
    {
     "name": "stdout",
     "output_type": "stream",
     "text": [
      "name\n",
      "supplement\n",
      "vest size\n"
     ]
    }
   ],
   "source": [
    "#loop through dictionary keys\n",
    "for key in bodybuilder.keys():\n",
    "    print(key)"
   ]
  },
  {
   "cell_type": "code",
   "execution_count": 26,
   "id": "08f35501",
   "metadata": {},
   "outputs": [
    {
     "name": "stdout",
     "output_type": "stream",
     "text": [
      "rico\n",
      "USN\n",
      "2XL\n"
     ]
    }
   ],
   "source": [
    "#looping through dictionary values\n",
    "for value in bodybuilder.values():\n",
    "    print(value)"
   ]
  },
  {
   "cell_type": "code",
   "execution_count": 27,
   "id": "50c6484f",
   "metadata": {},
   "outputs": [
    {
     "name": "stdout",
     "output_type": "stream",
     "text": [
      "name\n",
      "rico \n",
      "\n",
      "supplement\n",
      "USN \n",
      "\n",
      "vest size\n",
      "2XL \n",
      "\n"
     ]
    }
   ],
   "source": [
    "#looping through keys and values at the same time\n",
    "\n",
    "for key, value in bodybuilder.items():\n",
    "    print(key)\n",
    "    print(value, '\\n')"
   ]
  },
  {
   "cell_type": "code",
   "execution_count": 30,
   "id": "6fe7be5b",
   "metadata": {},
   "outputs": [],
   "source": [
    "#list comprehension\n",
    "new_list = [bodybuilder.title() for bodybuilder in bodybuilders ]"
   ]
  },
  {
   "cell_type": "code",
   "execution_count": 31,
   "id": "c0e1ea2e",
   "metadata": {},
   "outputs": [
    {
     "data": {
      "text/plain": [
       "['Ronnie', 'Jay', 'Kai', 'Phil']"
      ]
     },
     "execution_count": 31,
     "metadata": {},
     "output_type": "execute_result"
    }
   ],
   "source": [
    "new_list"
   ]
  },
  {
   "cell_type": "code",
   "execution_count": 32,
   "id": "608274ce",
   "metadata": {},
   "outputs": [
    {
     "data": {
      "text/plain": [
       "['ronnie', 'jay', 'kai', 'phil']"
      ]
     },
     "execution_count": 32,
     "metadata": {},
     "output_type": "execute_result"
    }
   ],
   "source": [
    "bodybuilders"
   ]
  },
  {
   "cell_type": "code",
   "execution_count": null,
   "id": "7f3551f6",
   "metadata": {},
   "outputs": [],
   "source": []
  },
  {
   "cell_type": "markdown",
   "id": "a9d5cfa3",
   "metadata": {},
   "source": [
    "# FUNCTIONS"
   ]
  },
  {
   "cell_type": "code",
   "execution_count": 34,
   "id": "274373c1",
   "metadata": {},
   "outputs": [],
   "source": [
    "#DEFINING A FUNCTION IN PYTHON\n",
    "\n",
    "def olympia_welcome():\n",
    "    print('Hello')\n",
    "    print(1+2)\n",
    "    print(3+8)"
   ]
  },
  {
   "cell_type": "code",
   "execution_count": 35,
   "id": "1ea4b21d",
   "metadata": {},
   "outputs": [
    {
     "name": "stdout",
     "output_type": "stream",
     "text": [
      "Hello\n",
      "3\n",
      "11\n"
     ]
    }
   ],
   "source": [
    "olympia_welcome()"
   ]
  },
  {
   "cell_type": "code",
   "execution_count": 36,
   "id": "42c97f32",
   "metadata": {},
   "outputs": [
    {
     "name": "stdout",
     "output_type": "stream",
     "text": [
      "Hello\n",
      "3\n",
      "11\n",
      "Hello\n",
      "3\n",
      "11\n",
      "Hello\n",
      "3\n",
      "11\n",
      "Hello\n",
      "3\n",
      "11\n"
     ]
    }
   ],
   "source": [
    "for i in range(4):\n",
    "    olympia_welcome()"
   ]
  },
  {
   "cell_type": "code",
   "execution_count": null,
   "id": "1489c15e",
   "metadata": {},
   "outputs": [],
   "source": [
    "# new function"
   ]
  },
  {
   "cell_type": "code",
   "execution_count": 37,
   "id": "7a3cdb90",
   "metadata": {},
   "outputs": [],
   "source": [
    "names = ['bonac', 'blessing', 'kamal', 'regan']"
   ]
  },
  {
   "cell_type": "code",
   "execution_count": 40,
   "id": "1338b38a",
   "metadata": {},
   "outputs": [],
   "source": [
    "def olympia_welcome(name):\n",
    "    print('welcome {}'.format(name))"
   ]
  },
  {
   "cell_type": "code",
   "execution_count": 42,
   "id": "d6d1bf12",
   "metadata": {},
   "outputs": [
    {
     "name": "stdout",
     "output_type": "stream",
     "text": [
      "welcome blessing owadibu\n"
     ]
    }
   ],
   "source": [
    "olympia_welcome('blessing owadibu')"
   ]
  },
  {
   "cell_type": "code",
   "execution_count": 41,
   "id": "b64ef11e",
   "metadata": {},
   "outputs": [
    {
     "name": "stdout",
     "output_type": "stream",
     "text": [
      "welcome regans grimes\n"
     ]
    }
   ],
   "source": [
    "print('welcome {} {}'.format('regans', 'grimes'))"
   ]
  },
  {
   "cell_type": "code",
   "execution_count": null,
   "id": "c1066604",
   "metadata": {},
   "outputs": [],
   "source": []
  },
  {
   "cell_type": "code",
   "execution_count": 43,
   "id": "bde5d027",
   "metadata": {},
   "outputs": [
    {
     "name": "stdout",
     "output_type": "stream",
     "text": [
      "welcome bonac\n",
      "welcome blessing\n",
      "welcome kamal\n",
      "welcome regan\n"
     ]
    }
   ],
   "source": [
    "# for loops for a functions\n",
    "for name in names:\n",
    "    olympia_welcome(name)"
   ]
  },
  {
   "cell_type": "code",
   "execution_count": null,
   "id": "44be130d",
   "metadata": {},
   "outputs": [],
   "source": []
  },
  {
   "cell_type": "code",
   "execution_count": 44,
   "id": "28799034",
   "metadata": {},
   "outputs": [],
   "source": [
    "#multiple positional arguments\n",
    "def olympia_welcome_to_expo(name, supplement):\n",
    "    print('welcome {} to the {} booth'.format(name, supplement))"
   ]
  },
  {
   "cell_type": "code",
   "execution_count": 45,
   "id": "df4da3eb",
   "metadata": {},
   "outputs": [
    {
     "name": "stdout",
     "output_type": "stream",
     "text": [
      "welcome jay to the usn booth\n"
     ]
    }
   ],
   "source": [
    "olympia_welcome_to_expo('jay', 'usn')"
   ]
  },
  {
   "cell_type": "code",
   "execution_count": 46,
   "id": "fa53d611",
   "metadata": {},
   "outputs": [],
   "source": [
    "supplement = ['usn', 'evogen', 'npl', 'yalava']"
   ]
  },
  {
   "cell_type": "code",
   "execution_count": null,
   "id": "ddcf6cf3",
   "metadata": {},
   "outputs": [],
   "source": []
  },
  {
   "cell_type": "code",
   "execution_count": 47,
   "id": "5f4ceb49",
   "metadata": {},
   "outputs": [
    {
     "name": "stdout",
     "output_type": "stream",
     "text": [
      "welcome bonac to the usn booth\n",
      "welcome blessing to the evogen booth\n",
      "welcome kamal to the npl booth\n",
      "welcome regan to the yalava booth\n"
     ]
    }
   ],
   "source": [
    "#for loop for a function\n",
    "for i, name in enumerate(names):\n",
    "    sup = supplement[i]\n",
    "    olympia_welcome_to_expo(name, sup)"
   ]
  },
  {
   "cell_type": "code",
   "execution_count": null,
   "id": "191022bb",
   "metadata": {},
   "outputs": [],
   "source": []
  },
  {
   "cell_type": "code",
   "execution_count": 1,
   "id": "797fe636",
   "metadata": {},
   "outputs": [],
   "source": [
    "#this is keyword arguments\n",
    "def gym_vest(colour = 'black'):\n",
    "    print('your gym vest is {}'.format(colour))"
   ]
  },
  {
   "cell_type": "code",
   "execution_count": 2,
   "id": "317fdaca",
   "metadata": {},
   "outputs": [
    {
     "name": "stdout",
     "output_type": "stream",
     "text": [
      "your gym vest is black\n"
     ]
    }
   ],
   "source": [
    "gym_vest()"
   ]
  },
  {
   "cell_type": "code",
   "execution_count": 6,
   "id": "54ff0c3e",
   "metadata": {},
   "outputs": [],
   "source": [
    "def gym_welcome_return(name, gym, colour = 'red', smoothie = 'chocolate'):\n",
    "    return'welcome {} to {}, our gym colour is {}, your favourite smoothie is {}'.format(name, gym, colour, smoothie)"
   ]
  },
  {
   "cell_type": "code",
   "execution_count": 9,
   "id": "05710418",
   "metadata": {},
   "outputs": [],
   "source": [
    "x = gym_welcome_return('Enrico', \"Virgin Active\", colour = \"blue\")"
   ]
  },
  {
   "cell_type": "code",
   "execution_count": 10,
   "id": "0a619031",
   "metadata": {},
   "outputs": [
    {
     "name": "stdout",
     "output_type": "stream",
     "text": [
      "welcome Enrico to Virgin Active, our gym colour is blue, your favourite smoothie is chocolate\n"
     ]
    }
   ],
   "source": [
    "print(x)"
   ]
  },
  {
   "cell_type": "code",
   "execution_count": 13,
   "id": "0c2437c0",
   "metadata": {},
   "outputs": [],
   "source": [
    "# Lambda function\n",
    "pi = lambda x: x*3.142"
   ]
  },
  {
   "cell_type": "code",
   "execution_count": 14,
   "id": "1c3f6a28",
   "metadata": {},
   "outputs": [
    {
     "data": {
      "text/plain": [
       "9.426"
      ]
     },
     "execution_count": 14,
     "metadata": {},
     "output_type": "execute_result"
    }
   ],
   "source": [
    "pi(3)"
   ]
  },
  {
   "cell_type": "code",
   "execution_count": 15,
   "id": "919f6dfa",
   "metadata": {},
   "outputs": [],
   "source": [
    "return_value = pi(17)"
   ]
  },
  {
   "cell_type": "code",
   "execution_count": 16,
   "id": "e56e77cc",
   "metadata": {},
   "outputs": [
    {
     "name": "stdout",
     "output_type": "stream",
     "text": [
      "53.414\n"
     ]
    }
   ],
   "source": [
    "print(return_value)"
   ]
  },
  {
   "cell_type": "markdown",
   "id": "22c8c7fa",
   "metadata": {},
   "source": [
    "# Classes"
   ]
  },
  {
   "cell_type": "code",
   "execution_count": 3,
   "id": "686cd7a9",
   "metadata": {},
   "outputs": [],
   "source": [
    "class person():\n",
    "    #the method that runs as soon as you create a class\n",
    "    def __init__(self, name, age, sport):\n",
    "        \n",
    "        #creating attributes for your own class\n",
    "        self.name = name\n",
    "        self.age = age\n",
    "        self.sport = sport\n",
    "    \n",
    "    #date of birth   \n",
    "    def year_of_birth(self):\n",
    "        return 2023-self.age\n",
    "    \n",
    "    #project future age\n",
    "    def project_age(self, years = 7):\n",
    "        return self.age+years\n",
    "        "
   ]
  },
  {
   "cell_type": "code",
   "execution_count": 67,
   "id": "f01f1582",
   "metadata": {},
   "outputs": [],
   "source": [
    "old_person = person('messi', 35, 'soccer')\n"
   ]
  },
  {
   "cell_type": "code",
   "execution_count": 22,
   "id": "3054168d",
   "metadata": {},
   "outputs": [
    {
     "data": {
      "text/plain": [
       "'messi'"
      ]
     },
     "execution_count": 22,
     "metadata": {},
     "output_type": "execute_result"
    }
   ],
   "source": [
    "#accessing a class attribute\n",
    "old_person.name"
   ]
  },
  {
   "cell_type": "code",
   "execution_count": 35,
   "id": "178ea978",
   "metadata": {},
   "outputs": [
    {
     "data": {
      "text/plain": [
       "'35'"
      ]
     },
     "execution_count": 35,
     "metadata": {},
     "output_type": "execute_result"
    }
   ],
   "source": [
    "old_person.age"
   ]
  },
  {
   "cell_type": "code",
   "execution_count": 52,
   "id": "50b5f543",
   "metadata": {},
   "outputs": [
    {
     "data": {
      "text/plain": [
       "'soccer'"
      ]
     },
     "execution_count": 52,
     "metadata": {},
     "output_type": "execute_result"
    }
   ],
   "source": [
    "old_person.sport"
   ]
  },
  {
   "cell_type": "code",
   "execution_count": 64,
   "id": "c513e999",
   "metadata": {},
   "outputs": [
    {
     "data": {
      "text/plain": [
       "1988"
      ]
     },
     "execution_count": 64,
     "metadata": {},
     "output_type": "execute_result"
    }
   ],
   "source": [
    "#run a method\n",
    "old_person.year_of_birth()"
   ]
  },
  {
   "cell_type": "code",
   "execution_count": 70,
   "id": "2f019ad8",
   "metadata": {},
   "outputs": [
    {
     "data": {
      "text/plain": [
       "55"
      ]
     },
     "execution_count": 70,
     "metadata": {},
     "output_type": "execute_result"
    }
   ],
   "source": [
    "#run a method with a keyword argument\n",
    "old_person.project_age(years = 20)"
   ]
  },
  {
   "cell_type": "markdown",
   "id": "c8383504",
   "metadata": {},
   "source": [
    "# Inheritance\n",
    "# class (mother)\n",
    "# inheritance (child)"
   ]
  },
  {
   "cell_type": "code",
   "execution_count": 42,
   "id": "d661e581",
   "metadata": {},
   "outputs": [],
   "source": [
    "# creating a child class\n",
    "class bodybuilder(person):\n",
    "    # define the initialisation function\n",
    "    def __init__(self, name, age, sport, season_prep):\n",
    "        \n",
    "        #this is inheritance the suoer() command initiates inheritance\n",
    "        super().__init__(name, age, sport)\n",
    "        self.season_prep = season_prep\n",
    "        \n",
    "        #determine the age after bodybuilding career\n",
    "    def age_after_career(self):\n",
    "        return self.project_age(years = self.season_prep)"
   ]
  },
  {
   "cell_type": "code",
   "execution_count": 39,
   "id": "dc9c1c1f",
   "metadata": {},
   "outputs": [],
   "source": [
    "npc_competitor = bodybuilder('enrico', 28, 'bodybuilding', 4)"
   ]
  },
  {
   "cell_type": "code",
   "execution_count": 9,
   "id": "35c737b9",
   "metadata": {},
   "outputs": [
    {
     "data": {
      "text/plain": [
       "'bodybuilding'"
      ]
     },
     "execution_count": 9,
     "metadata": {},
     "output_type": "execute_result"
    }
   ],
   "source": [
    "npc_competitor.sport"
   ]
  },
  {
   "cell_type": "code",
   "execution_count": 31,
   "id": "c9ad06f5",
   "metadata": {},
   "outputs": [
    {
     "data": {
      "text/plain": [
       "1995"
      ]
     },
     "execution_count": 31,
     "metadata": {},
     "output_type": "execute_result"
    }
   ],
   "source": [
    "npc_competitor.year_of_birth()"
   ]
  },
  {
   "cell_type": "code",
   "execution_count": 40,
   "id": "f38d8f57",
   "metadata": {},
   "outputs": [
    {
     "data": {
      "text/plain": [
       "4"
      ]
     },
     "execution_count": 40,
     "metadata": {},
     "output_type": "execute_result"
    }
   ],
   "source": [
    "npc_competitor.season_prep"
   ]
  },
  {
   "cell_type": "code",
   "execution_count": 41,
   "id": "5d76e09f",
   "metadata": {},
   "outputs": [
    {
     "data": {
      "text/plain": [
       "32"
      ]
     },
     "execution_count": 41,
     "metadata": {},
     "output_type": "execute_result"
    }
   ],
   "source": [
    "npc_competitor.age_after_career()"
   ]
  },
  {
   "cell_type": "markdown",
   "id": "6651c5d4",
   "metadata": {},
   "source": [
    "# Modules\n"
   ]
  },
  {
   "cell_type": "code",
   "execution_count": null,
   "id": "898b1dfd",
   "metadata": {},
   "outputs": [],
   "source": [
    "# we use modules to import code that we have in a different python script\n",
    "\n",
    "\n",
    "# from helpers import launch_codes\n",
    "# launch_codes()\n",
    "\n",
    "#output = 123456789"
   ]
  },
  {
   "cell_type": "markdown",
   "id": "0e071c32",
   "metadata": {},
   "source": [
    "# Working with packages"
   ]
  },
  {
   "cell_type": "code",
   "execution_count": 1,
   "id": "5ffd62e6",
   "metadata": {
    "collapsed": true
   },
   "outputs": [
    {
     "name": "stdout",
     "output_type": "stream",
     "text": [
      "Requirement already satisfied: requests in c:\\users\\enrico ras\\anaconda3\\lib\\site-packages (2.28.1)\n",
      "Requirement already satisfied: charset-normalizer<3,>=2 in c:\\users\\enrico ras\\anaconda3\\lib\\site-packages (from requests) (2.0.4)\n",
      "Requirement already satisfied: urllib3<1.27,>=1.21.1 in c:\\users\\enrico ras\\anaconda3\\lib\\site-packages (from requests) (1.26.11)\n",
      "Requirement already satisfied: idna<4,>=2.5 in c:\\users\\enrico ras\\anaconda3\\lib\\site-packages (from requests) (3.3)\n",
      "Requirement already satisfied: certifi>=2017.4.17 in c:\\users\\enrico ras\\anaconda3\\lib\\site-packages (from requests) (2022.9.14)\n"
     ]
    }
   ],
   "source": [
    "!pip install requests"
   ]
  },
  {
   "cell_type": "code",
   "execution_count": 2,
   "id": "0258c9dc",
   "metadata": {
    "collapsed": true
   },
   "outputs": [
    {
     "name": "stdout",
     "output_type": "stream",
     "text": [
      "Package                       Version\n",
      "----------------------------- --------------------\n",
      "alabaster                     0.7.12\n",
      "anaconda-client               1.11.0\n",
      "anaconda-navigator            2.3.1\n",
      "anaconda-project              0.11.1\n",
      "anyio                         3.5.0\n",
      "appdirs                       1.4.4\n",
      "argon2-cffi                   21.3.0\n",
      "argon2-cffi-bindings          21.2.0\n",
      "arrow                         1.2.2\n",
      "astroid                       2.11.7\n",
      "astropy                       5.1\n",
      "atomicwrites                  1.4.0\n",
      "attrs                         21.4.0\n",
      "Automat                       20.2.0\n",
      "autopep8                      1.6.0\n",
      "Babel                         2.9.1\n",
      "backcall                      0.2.0\n",
      "backports.functools-lru-cache 1.6.4\n",
      "backports.tempfile            1.0\n",
      "backports.weakref             1.0.post1\n",
      "bcrypt                        3.2.0\n",
      "beautifulsoup4                4.11.1\n",
      "binaryornot                   0.4.4\n",
      "bitarray                      2.5.1\n",
      "bkcharts                      0.2\n",
      "black                         22.6.0\n",
      "bleach                        4.1.0\n",
      "bokeh                         2.4.3\n",
      "boto3                         1.24.28\n",
      "botocore                      1.27.28\n",
      "Bottleneck                    1.3.5\n",
      "brotlipy                      0.7.0\n",
      "certifi                       2022.9.14\n",
      "cffi                          1.15.1\n",
      "chardet                       4.0.0\n",
      "charset-normalizer            2.0.4\n",
      "click                         8.0.4\n",
      "cloudpickle                   2.0.0\n",
      "clyent                        1.2.2\n",
      "colorama                      0.4.5\n",
      "colorcet                      3.0.0\n",
      "comtypes                      1.1.10\n",
      "conda                         22.9.0\n",
      "conda-build                   3.22.0\n",
      "conda-content-trust           0.1.3\n",
      "conda-pack                    0.6.0\n",
      "conda-package-handling        1.9.0\n",
      "conda-repo-cli                1.0.20\n",
      "conda-token                   0.4.0\n",
      "conda-verify                  3.4.2\n",
      "constantly                    15.1.0\n",
      "cookiecutter                  1.7.3\n",
      "cryptography                  37.0.1\n",
      "cssselect                     1.1.0\n",
      "cycler                        0.11.0\n",
      "Cython                        0.29.32\n",
      "cytoolz                       0.11.0\n",
      "daal4py                       2021.6.0\n",
      "dask                          2022.7.0\n",
      "datashader                    0.14.1\n",
      "datashape                     0.5.4\n",
      "debugpy                       1.5.1\n",
      "decorator                     5.1.1\n",
      "defusedxml                    0.7.1\n",
      "diff-match-patch              20200713\n",
      "dill                          0.3.4\n",
      "distributed                   2022.7.0\n",
      "docutils                      0.18.1\n",
      "entrypoints                   0.4\n",
      "et-xmlfile                    1.1.0\n",
      "fastjsonschema                2.16.2\n",
      "filelock                      3.6.0\n",
      "flake8                        4.0.1\n",
      "Flask                         1.1.2\n",
      "fonttools                     4.25.0\n",
      "fsspec                        2022.7.1\n",
      "future                        0.18.2\n",
      "gensim                        4.1.2\n",
      "glob2                         0.7\n",
      "greenlet                      1.1.1\n",
      "h5py                          3.7.0\n",
      "HeapDict                      1.0.1\n",
      "holoviews                     1.15.0\n",
      "hvplot                        0.8.0\n",
      "hyperlink                     21.0.0\n",
      "idna                          3.3\n",
      "imagecodecs                   2021.8.26\n",
      "imageio                       2.19.3\n",
      "imagesize                     1.4.1\n",
      "importlib-metadata            4.11.3\n",
      "incremental                   21.3.0\n",
      "inflection                    0.5.1\n",
      "iniconfig                     1.1.1\n",
      "intake                        0.6.5\n",
      "intervaltree                  3.1.0\n",
      "ipykernel                     6.15.2\n",
      "ipython                       7.31.1\n",
      "ipython-genutils              0.2.0\n",
      "ipywidgets                    7.6.5\n",
      "isort                         5.9.3\n",
      "itemadapter                   0.3.0\n",
      "itemloaders                   1.0.4\n",
      "itsdangerous                  2.0.1\n",
      "jdcal                         1.4.1\n",
      "jedi                          0.18.1\n",
      "jellyfish                     0.9.0\n",
      "Jinja2                        2.11.3\n",
      "jinja2-time                   0.2.0\n",
      "jmespath                      0.10.0\n",
      "joblib                        1.1.0\n",
      "json5                         0.9.6\n",
      "jsonschema                    4.16.0\n",
      "jupyter                       1.0.0\n",
      "jupyter_client                7.3.4\n",
      "jupyter-console               6.4.3\n",
      "jupyter_core                  4.11.1\n",
      "jupyter-server                1.18.1\n",
      "jupyterlab                    3.4.4\n",
      "jupyterlab-pygments           0.1.2\n",
      "jupyterlab-server             2.10.3\n",
      "jupyterlab-widgets            1.0.0\n",
      "keyring                       23.4.0\n",
      "kiwisolver                    1.4.2\n",
      "lazy-object-proxy             1.6.0\n",
      "libarchive-c                  2.9\n",
      "llvmlite                      0.38.0\n",
      "locket                        1.0.0\n",
      "lxml                          4.9.1\n",
      "lz4                           3.1.3\n",
      "Markdown                      3.3.4\n",
      "MarkupSafe                    2.0.1\n",
      "matplotlib                    3.5.2\n",
      "matplotlib-inline             0.1.6\n",
      "mccabe                        0.6.1\n",
      "menuinst                      1.4.19\n",
      "mistune                       0.8.4\n",
      "mkl-fft                       1.3.1\n",
      "mkl-random                    1.2.2\n",
      "mkl-service                   2.4.0\n",
      "mock                          4.0.3\n",
      "mpmath                        1.2.1\n",
      "msgpack                       1.0.3\n",
      "multipledispatch              0.6.0\n",
      "munkres                       1.1.4\n",
      "mypy-extensions               0.4.3\n",
      "navigator-updater             0.3.0\n",
      "nbclassic                     0.3.5\n",
      "nbclient                      0.5.13\n",
      "nbconvert                     6.4.4\n",
      "nbformat                      5.5.0\n",
      "nest-asyncio                  1.5.5\n",
      "networkx                      2.8.4\n",
      "nltk                          3.7\n",
      "nose                          1.3.7\n",
      "notebook                      6.4.12\n",
      "numba                         0.55.1\n",
      "numexpr                       2.8.3\n",
      "numpy                         1.21.5\n",
      "numpydoc                      1.4.0\n",
      "olefile                       0.46\n",
      "openpyxl                      3.0.10\n",
      "packaging                     21.3\n",
      "pandas                        1.4.4\n",
      "pandocfilters                 1.5.0\n",
      "panel                         0.13.1\n",
      "param                         1.12.0\n",
      "paramiko                      2.8.1\n",
      "parsel                        1.6.0\n",
      "parso                         0.8.3\n",
      "partd                         1.2.0\n",
      "pathlib                       1.0.1\n",
      "pathspec                      0.9.0\n",
      "patsy                         0.5.2\n",
      "pep8                          1.7.1\n",
      "pexpect                       4.8.0\n",
      "pickleshare                   0.7.5\n",
      "Pillow                        9.2.0\n",
      "pip                           22.2.2\n",
      "pkginfo                       1.8.2\n",
      "platformdirs                  2.5.2\n",
      "plotly                        5.9.0\n",
      "pluggy                        1.0.0\n",
      "poyo                          0.5.0\n",
      "prometheus-client             0.14.1\n",
      "prompt-toolkit                3.0.20\n",
      "Protego                       0.1.16\n",
      "psutil                        5.9.0\n",
      "ptyprocess                    0.7.0\n",
      "py                            1.11.0\n",
      "pyasn1                        0.4.8\n",
      "pyasn1-modules                0.2.8\n",
      "pycodestyle                   2.8.0\n",
      "pycosat                       0.6.3\n",
      "pycparser                     2.21\n",
      "pyct                          0.4.8\n",
      "pycurl                        7.45.1\n",
      "PyDispatcher                  2.0.5\n",
      "pydocstyle                    6.1.1\n",
      "pyerfa                        2.0.0\n",
      "pyflakes                      2.4.0\n",
      "Pygments                      2.11.2\n",
      "PyHamcrest                    2.0.2\n",
      "PyJWT                         2.4.0\n",
      "pylint                        2.14.5\n",
      "pyls-spyder                   0.4.0\n",
      "PyNaCl                        1.5.0\n",
      "pyodbc                        4.0.34\n",
      "pyOpenSSL                     22.0.0\n",
      "pyparsing                     3.0.9\n",
      "pyrsistent                    0.18.0\n",
      "PySocks                       1.7.1\n",
      "pytest                        7.1.2\n",
      "python-dateutil               2.8.2\n",
      "python-lsp-black              1.0.0\n",
      "python-lsp-jsonrpc            1.0.0\n",
      "python-lsp-server             1.3.3\n",
      "python-slugify                5.0.2\n",
      "python-snappy                 0.6.0\n",
      "pytz                          2022.1\n",
      "pyviz-comms                   2.0.2\n",
      "PyWavelets                    1.3.0\n",
      "pywin32                       302\n",
      "pywin32-ctypes                0.2.0\n",
      "pywinpty                      2.0.2\n",
      "PyYAML                        6.0\n",
      "pyzmq                         23.2.0\n",
      "QDarkStyle                    3.0.2\n",
      "qstylizer                     0.1.10\n",
      "QtAwesome                     1.0.3\n",
      "qtconsole                     5.2.2\n",
      "QtPy                          2.2.0\n",
      "queuelib                      1.5.0\n",
      "regex                         2022.7.9\n",
      "requests                      2.28.1\n",
      "requests-file                 1.5.1\n",
      "rope                          0.22.0\n",
      "Rtree                         0.9.7\n",
      "ruamel-yaml-conda             0.15.100\n",
      "s3transfer                    0.6.0\n",
      "scikit-image                  0.19.2\n",
      "scikit-learn                  1.0.2\n",
      "scikit-learn-intelex          2021.20221004.171935\n",
      "scipy                         1.9.1\n",
      "Scrapy                        2.6.2\n",
      "seaborn                       0.11.2\n",
      "Send2Trash                    1.8.0\n",
      "service-identity              18.1.0\n",
      "setuptools                    63.4.1\n",
      "sip                           4.19.13\n",
      "six                           1.16.0\n",
      "smart-open                    5.2.1\n",
      "sniffio                       1.2.0\n",
      "snowballstemmer               2.2.0\n",
      "sortedcollections             2.1.0\n",
      "sortedcontainers              2.4.0\n",
      "soupsieve                     2.3.1\n",
      "Sphinx                        5.0.2\n",
      "sphinxcontrib-applehelp       1.0.2\n",
      "sphinxcontrib-devhelp         1.0.2\n",
      "sphinxcontrib-htmlhelp        2.0.0\n",
      "sphinxcontrib-jsmath          1.0.1\n",
      "sphinxcontrib-qthelp          1.0.3\n",
      "sphinxcontrib-serializinghtml 1.1.5\n",
      "spyder                        5.2.2\n",
      "spyder-kernels                2.2.1\n",
      "SQLAlchemy                    1.4.39\n",
      "statsmodels                   0.13.2\n",
      "sympy                         1.10.1\n",
      "tables                        3.6.1\n",
      "tabulate                      0.8.10\n",
      "TBB                           0.2\n",
      "tblib                         1.7.0\n",
      "tenacity                      8.0.1\n",
      "terminado                     0.13.1\n",
      "testpath                      0.6.0\n",
      "text-unidecode                1.3\n",
      "textdistance                  4.2.1\n",
      "threadpoolctl                 2.2.0\n",
      "three-merge                   0.1.1\n",
      "tifffile                      2021.7.2\n",
      "tinycss                       0.4\n",
      "tldextract                    3.2.0\n",
      "toml                          0.10.2\n",
      "tomli                         2.0.1\n",
      "tomlkit                       0.11.1\n",
      "toolz                         0.11.2\n",
      "tornado                       6.1\n",
      "tqdm                          4.64.1\n",
      "traitlets                     5.1.1\n",
      "Twisted                       22.2.0\n",
      "twisted-iocpsupport           1.0.2\n",
      "typing_extensions             4.3.0\n",
      "ujson                         5.4.0\n",
      "Unidecode                     1.2.0\n",
      "urllib3                       1.26.11\n",
      "w3lib                         1.21.0\n",
      "watchdog                      2.1.6\n",
      "wcwidth                       0.2.5\n",
      "webencodings                  0.5.1\n",
      "websocket-client              0.58.0\n",
      "Werkzeug                      2.0.3\n",
      "wheel                         0.37.1\n",
      "widgetsnbextension            3.5.2\n",
      "win-inet-pton                 1.1.0\n",
      "win-unicode-console           0.5\n",
      "wincertstore                  0.2\n",
      "wrapt                         1.14.1\n",
      "xarray                        0.20.1\n",
      "xlrd                          2.0.1\n",
      "XlsxWriter                    3.0.3\n",
      "xlwings                       0.27.15\n",
      "yapf                          0.31.0\n",
      "zict                          2.1.0\n",
      "zipp                          3.8.0\n",
      "zope.interface                5.4.0\n"
     ]
    }
   ],
   "source": [
    "! pip list"
   ]
  },
  {
   "cell_type": "code",
   "execution_count": 3,
   "id": "508c709c",
   "metadata": {},
   "outputs": [],
   "source": [
    "#import requests into notebook\n",
    "import requests"
   ]
  },
  {
   "cell_type": "code",
   "execution_count": 25,
   "id": "e10a0ff4",
   "metadata": {},
   "outputs": [],
   "source": [
    "requests.get??"
   ]
  },
  {
   "cell_type": "code",
   "execution_count": 4,
   "id": "d1d92744",
   "metadata": {},
   "outputs": [],
   "source": [
    "# I can haz dad joke endpoint (url that we need to hit)\n",
    "joke_url = 'http://icanhazdadjoke.com'\n",
    "\n",
    "# iss endpoint\n",
    "iss_url = 'http://api.wheretheiss.at/v1/satellites/25544'"
   ]
  },
  {
   "cell_type": "code",
   "execution_count": 5,
   "id": "efa8ba23",
   "metadata": {},
   "outputs": [],
   "source": [
    "# this is setting up a header\n",
    "my_header = {'Accept':'application/json'}\n",
    "\n",
    "# API call\n",
    "\n",
    "results = requests.get(joke_url, headers = my_header)"
   ]
  },
  {
   "cell_type": "code",
   "execution_count": 6,
   "id": "3cfddacc",
   "metadata": {},
   "outputs": [
    {
     "data": {
      "text/plain": [
       "<Response [200]>"
      ]
     },
     "execution_count": 6,
     "metadata": {},
     "output_type": "execute_result"
    }
   ],
   "source": [
    "results"
   ]
  },
  {
   "cell_type": "code",
   "execution_count": 7,
   "id": "dd69984d",
   "metadata": {},
   "outputs": [],
   "source": [
    "json_result =results.json()"
   ]
  },
  {
   "cell_type": "code",
   "execution_count": 8,
   "id": "b95aa2fe",
   "metadata": {},
   "outputs": [
    {
     "data": {
      "text/plain": [
       "{'id': 'GJeaF6pOKmb',\n",
       " 'joke': 'They say Dodger Stadium can hold up to fifty-six thousand people, but that is just a ballpark figure.',\n",
       " 'status': 200}"
      ]
     },
     "execution_count": 8,
     "metadata": {},
     "output_type": "execute_result"
    }
   ],
   "source": [
    "json_result"
   ]
  },
  {
   "cell_type": "code",
   "execution_count": 9,
   "id": "5f29b341",
   "metadata": {},
   "outputs": [],
   "source": [
    "#making an API call\n",
    "iss_results = requests.get(iss_url, headers = my_header)"
   ]
  },
  {
   "cell_type": "code",
   "execution_count": 11,
   "id": "2c1639df",
   "metadata": {},
   "outputs": [
    {
     "data": {
      "text/plain": [
       "<Response [200]>"
      ]
     },
     "execution_count": 11,
     "metadata": {},
     "output_type": "execute_result"
    }
   ],
   "source": [
    "iss_results"
   ]
  },
  {
   "cell_type": "code",
   "execution_count": 12,
   "id": "1dfd3202",
   "metadata": {},
   "outputs": [
    {
     "data": {
      "text/plain": [
       "{'name': 'iss',\n",
       " 'id': 25544,\n",
       " 'latitude': -34.955297532497,\n",
       " 'longitude': -140.91296483547,\n",
       " 'altitude': 428.93709392893,\n",
       " 'velocity': 27555.343120905,\n",
       " 'visibility': 'eclipsed',\n",
       " 'footprint': 4552.654748132,\n",
       " 'timestamp': 1677565856,\n",
       " 'daynum': 2460003.7714815,\n",
       " 'solar_lat': -8.0424741691049,\n",
       " 'solar_lon': 85.41889313712,\n",
       " 'units': 'kilometers'}"
      ]
     },
     "execution_count": 12,
     "metadata": {},
     "output_type": "execute_result"
    }
   ],
   "source": [
    "iss_results.json()"
   ]
  },
  {
   "cell_type": "markdown",
   "id": "8421f8d6",
   "metadata": {},
   "source": [
    "# Working with files\n"
   ]
  },
  {
   "cell_type": "code",
   "execution_count": 3,
   "id": "badbf2bb",
   "metadata": {},
   "outputs": [],
   "source": [
    "# write out the training book\n",
    "with open('training_book.txt', 'w') as f:\n",
    "    f.write('This is my first e-book and I will sell it for R 100 per client')"
   ]
  },
  {
   "cell_type": "code",
   "execution_count": 4,
   "id": "438e5894",
   "metadata": {},
   "outputs": [],
   "source": [
    "with open('training_book.txt', 'r') as f:\n",
    "    file = f.read()"
   ]
  },
  {
   "cell_type": "code",
   "execution_count": 5,
   "id": "3bb244ce",
   "metadata": {},
   "outputs": [
    {
     "name": "stdout",
     "output_type": "stream",
     "text": [
      "This is my first e-book and I will sell it for R 100 per client\n"
     ]
    }
   ],
   "source": [
    "print(file)"
   ]
  },
  {
   "cell_type": "markdown",
   "id": "ec6d0bc8",
   "metadata": {},
   "source": [
    "# Error Handling"
   ]
  },
  {
   "cell_type": "code",
   "execution_count": 6,
   "id": "e0b970c4",
   "metadata": {},
   "outputs": [],
   "source": [
    "#create a set\n",
    "new_set = {3, 9, 2, 11, 25}"
   ]
  },
  {
   "cell_type": "code",
   "execution_count": 8,
   "id": "a5183937",
   "metadata": {},
   "outputs": [
    {
     "name": "stdout",
     "output_type": "stream",
     "text": [
      "'set' object does not support item assignment\n",
      "something went wrong with your requests\n"
     ]
    }
   ],
   "source": [
    "try:\n",
    "    new_set[1] = 77\n",
    "#if we have an error the code below will run    \n",
    "except Exception as e:\n",
    "    print(e)\n",
    "    print('something went wrong with your requests')"
   ]
  },
  {
   "cell_type": "markdown",
   "id": "c4e1c97d",
   "metadata": {},
   "source": [
    "# MATH"
   ]
  },
  {
   "cell_type": "code",
   "execution_count": 14,
   "id": "7fd4940b",
   "metadata": {},
   "outputs": [],
   "source": [
    "#creating variables\n",
    "math_value_1 = 1327\n",
    "math_value_2 = 8823"
   ]
  },
  {
   "cell_type": "code",
   "execution_count": 16,
   "id": "379b39bd",
   "metadata": {},
   "outputs": [
    {
     "data": {
      "text/plain": [
       "10150"
      ]
     },
     "execution_count": 16,
     "metadata": {},
     "output_type": "execute_result"
    }
   ],
   "source": [
    "math_value_1 + math_value_2"
   ]
  },
  {
   "cell_type": "code",
   "execution_count": 17,
   "id": "0a2df92c",
   "metadata": {},
   "outputs": [
    {
     "data": {
      "text/plain": [
       "7496"
      ]
     },
     "execution_count": 17,
     "metadata": {},
     "output_type": "execute_result"
    }
   ],
   "source": [
    "math_value_2 - math_value_1"
   ]
  },
  {
   "cell_type": "code",
   "execution_count": 18,
   "id": "34ef10c4",
   "metadata": {},
   "outputs": [
    {
     "data": {
      "text/plain": [
       "11708121"
      ]
     },
     "execution_count": 18,
     "metadata": {},
     "output_type": "execute_result"
    }
   ],
   "source": [
    "math_value_1 * math_value_2"
   ]
  },
  {
   "cell_type": "code",
   "execution_count": 21,
   "id": "316675b8",
   "metadata": {},
   "outputs": [
    {
     "data": {
      "text/plain": [
       "0.1504023574747818"
      ]
     },
     "execution_count": 21,
     "metadata": {},
     "output_type": "execute_result"
    }
   ],
   "source": [
    "math_value_1 / math_value_2"
   ]
  },
  {
   "cell_type": "code",
   "execution_count": 22,
   "id": "7a37fec1",
   "metadata": {},
   "outputs": [
    {
     "data": {
      "text/plain": [
       "6"
      ]
     },
     "execution_count": 22,
     "metadata": {},
     "output_type": "execute_result"
    }
   ],
   "source": [
    "math_value_2 // math_value_1"
   ]
  },
  {
   "cell_type": "code",
   "execution_count": 23,
   "id": "3932b058",
   "metadata": {},
   "outputs": [
    {
     "data": {
      "text/plain": [
       "861"
      ]
     },
     "execution_count": 23,
     "metadata": {},
     "output_type": "execute_result"
    }
   ],
   "source": [
    "# this is the residual, this give us what is left when we execute our math functions\n",
    "math_value_2 % math_value_1"
   ]
  },
  {
   "cell_type": "code",
   "execution_count": 25,
   "id": "bcebfe26",
   "metadata": {},
   "outputs": [
    {
     "data": {
      "text/plain": [
       "9098.668"
      ]
     },
     "execution_count": 25,
     "metadata": {},
     "output_type": "execute_result"
    }
   ],
   "source": [
    "round(9098.6678, 3)"
   ]
  },
  {
   "cell_type": "code",
   "execution_count": 26,
   "id": "8053b506",
   "metadata": {},
   "outputs": [
    {
     "data": {
      "text/plain": [
       "2336752783"
      ]
     },
     "execution_count": 26,
     "metadata": {},
     "output_type": "execute_result"
    }
   ],
   "source": [
    "#power\n",
    "math_value_1**3\n"
   ]
  },
  {
   "cell_type": "code",
   "execution_count": 27,
   "id": "7610362b",
   "metadata": {},
   "outputs": [
    {
     "data": {
      "text/plain": [
       "23"
      ]
     },
     "execution_count": 27,
     "metadata": {},
     "output_type": "execute_result"
    }
   ],
   "source": [
    "abs(-23)"
   ]
  },
  {
   "cell_type": "code",
   "execution_count": 28,
   "id": "9e0c82a5",
   "metadata": {},
   "outputs": [
    {
     "ename": "NameError",
     "evalue": "name 'sqr' is not defined",
     "output_type": "error",
     "traceback": [
      "\u001b[1;31m---------------------------------------------------------------------------\u001b[0m",
      "\u001b[1;31mNameError\u001b[0m                                 Traceback (most recent call last)",
      "\u001b[1;32m~\\AppData\\Local\\Temp\\ipykernel_21512\\2545349416.py\u001b[0m in \u001b[0;36m<module>\u001b[1;34m\u001b[0m\n\u001b[1;32m----> 1\u001b[1;33m \u001b[0msqr\u001b[0m\u001b[1;33m(\u001b[0m\u001b[1;36m4\u001b[0m\u001b[1;33m)\u001b[0m\u001b[1;33m\u001b[0m\u001b[1;33m\u001b[0m\u001b[0m\n\u001b[0m",
      "\u001b[1;31mNameError\u001b[0m: name 'sqr' is not defined"
     ]
    }
   ],
   "source": [
    "sqr(4)"
   ]
  },
  {
   "cell_type": "code",
   "execution_count": 29,
   "id": "ee36be94",
   "metadata": {},
   "outputs": [
    {
     "data": {
      "text/plain": [
       "10"
      ]
     },
     "execution_count": 29,
     "metadata": {},
     "output_type": "execute_result"
    }
   ],
   "source": [
    "min(23, 77, 45, 10, 19)"
   ]
  },
  {
   "cell_type": "code",
   "execution_count": 30,
   "id": "1ee8a0d1",
   "metadata": {},
   "outputs": [
    {
     "data": {
      "text/plain": [
       "9878"
      ]
     },
     "execution_count": 30,
     "metadata": {},
     "output_type": "execute_result"
    }
   ],
   "source": [
    "max(98, 32, 100, 9878)"
   ]
  },
  {
   "cell_type": "code",
   "execution_count": 32,
   "id": "c3a0cedb",
   "metadata": {},
   "outputs": [],
   "source": [
    "#import the math package\n",
    "import math"
   ]
  },
  {
   "cell_type": "code",
   "execution_count": 33,
   "id": "7e9c0dcd",
   "metadata": {},
   "outputs": [
    {
     "data": {
      "text/plain": [
       "9.0"
      ]
     },
     "execution_count": 33,
     "metadata": {},
     "output_type": "execute_result"
    }
   ],
   "source": [
    "math.sqrt(81)"
   ]
  },
  {
   "cell_type": "code",
   "execution_count": null,
   "id": "41188604",
   "metadata": {},
   "outputs": [],
   "source": []
  },
  {
   "cell_type": "code",
   "execution_count": null,
   "id": "54ebde43",
   "metadata": {},
   "outputs": [],
   "source": []
  },
  {
   "cell_type": "code",
   "execution_count": null,
   "id": "5b6ad1d2",
   "metadata": {},
   "outputs": [],
   "source": []
  },
  {
   "cell_type": "code",
   "execution_count": null,
   "id": "26041a8e",
   "metadata": {},
   "outputs": [],
   "source": []
  }
 ],
 "metadata": {
  "kernelspec": {
   "display_name": "Python 3 (ipykernel)",
   "language": "python",
   "name": "python3"
  },
  "language_info": {
   "codemirror_mode": {
    "name": "ipython",
    "version": 3
   },
   "file_extension": ".py",
   "mimetype": "text/x-python",
   "name": "python",
   "nbconvert_exporter": "python",
   "pygments_lexer": "ipython3",
   "version": "3.9.13"
  }
 },
 "nbformat": 4,
 "nbformat_minor": 5
}
