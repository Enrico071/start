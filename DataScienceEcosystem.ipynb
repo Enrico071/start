{
 "cells": [
  {
   "cell_type": "markdown",
   "id": "30d52875",
   "metadata": {},
   "source": [
    "# Data Science Tools and Ecosystem"
   ]
  },
  {
   "cell_type": "markdown",
   "id": "e375478d",
   "metadata": {},
   "source": [
    "# Introduction\n",
    "In this notebook, Data Science and Ecosystem are summarized"
   ]
  },
  {
   "cell_type": "markdown",
   "id": "cb2026c8",
   "metadata": {},
   "source": [
    "**Objective:**\n",
    "- Data Science languages\n",
    "- Data science libraries\n",
    "- Arithmetic expressions\n"
   ]
  },
  {
   "cell_type": "code",
   "execution_count": null,
   "id": "811c9f71",
   "metadata": {},
   "outputs": [],
   "source": []
  },
  {
   "cell_type": "markdown",
   "id": "a4f385e9",
   "metadata": {},
   "source": [
    "# Data science languages\n",
    "Some of the popular languages that Data Scientists use are:\n",
    "    \n",
    "1. Python \n",
    "2. R\n",
    "3. SQL \n",
    "4. Scala\n",
    "5. Julia\n"
   ]
  },
  {
   "cell_type": "markdown",
   "id": "7c505122",
   "metadata": {},
   "source": [
    "# Data science libraries\n",
    "\n",
    "Some of the commonly used libraries used by Data Scientists include:\n",
    "1. Numpy\n",
    "2. Pandas\n",
    "3. Matplotlib\n",
    "4. Scikit Learn\n",
    "5. Tensorflow\n",
    "6. SciPy\n",
    "7. Seaborn\n",
    "8. Keras\n",
    "9. Apache Spark"
   ]
  },
  {
   "cell_type": "markdown",
   "id": "1c699714",
   "metadata": {},
   "source": [
    "|Data Science Tools|\n",
    "|------------------|\n",
    "|Apache Airflow|\n",
    "|Apache Atlas|\n",
    "|Apache Kafka|"
   ]
  },
  {
   "cell_type": "markdown",
   "id": "e1c48042",
   "metadata": {},
   "source": [
    "### Below are a few examples of evaluating arithmetic expressions in Python"
   ]
  },
  {
   "cell_type": "code",
   "execution_count": 4,
   "id": "5c0b2b1e",
   "metadata": {},
   "outputs": [
    {
     "data": {
      "text/plain": [
       "17"
      ]
     },
     "execution_count": 4,
     "metadata": {},
     "output_type": "execute_result"
    }
   ],
   "source": [
    "# This a simple arithmetic expression to mutiply then add integers\n",
    "(3*4)+5"
   ]
  },
  {
   "cell_type": "code",
   "execution_count": 7,
   "id": "92d64a8a",
   "metadata": {},
   "outputs": [
    {
     "name": "stdout",
     "output_type": "stream",
     "text": [
      "3.3333333333333335\n"
     ]
    }
   ],
   "source": [
    "# This will convert 200 minutes to hours by diving by 60\n",
    "\n",
    "x = 200 \n",
    "y = 60\n",
    "\n",
    "print(float(200/60))"
   ]
  },
  {
   "cell_type": "markdown",
   "id": "dbaa9c56",
   "metadata": {},
   "source": [
    "### Author\n",
    "Enrico Ras"
   ]
  },
  {
   "cell_type": "code",
   "execution_count": null,
   "id": "234e41ee",
   "metadata": {},
   "outputs": [],
   "source": []
  }
 ],
 "metadata": {
  "kernelspec": {
   "display_name": "Python 3 (ipykernel)",
   "language": "python",
   "name": "python3"
  },
  "language_info": {
   "codemirror_mode": {
    "name": "ipython",
    "version": 3
   },
   "file_extension": ".py",
   "mimetype": "text/x-python",
   "name": "python",
   "nbconvert_exporter": "python",
   "pygments_lexer": "ipython3",
   "version": "3.10.9"
  }
 },
 "nbformat": 4,
 "nbformat_minor": 5
}
